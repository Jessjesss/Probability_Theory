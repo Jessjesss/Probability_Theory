{
 "cells": [
  {
   "cell_type": "markdown",
   "id": "03a6c6df",
   "metadata": {},
   "source": [
    "Провести дисперсионный анализ для определения того, есть ли различия среднего роста среди взрослых футболистов, хоккеистов и штангистов.\n",
    "\n",
    "Даны значения роста в трех группах случайно выбранных спортсменов:\n",
    "\n",
    "Футболисты: 173, 175, 180, 178, 177, 185, 183, 182.\n",
    "\n",
    "Хоккеисты: 177, 179, 180, 188, 177, 172, 171, 184, 180.\n",
    "\n",
    "Штангисты: 172, 173, 169, 177, 166, 180, 178, 177, 172, 166, 170."
   ]
  },
  {
   "cell_type": "code",
   "execution_count": 5,
   "id": "6d66298e",
   "metadata": {},
   "outputs": [],
   "source": [
    "import numpy as np\n",
    "import scipy.stats as stats"
   ]
  },
  {
   "cell_type": "code",
   "execution_count": 6,
   "id": "7acc0b19",
   "metadata": {},
   "outputs": [],
   "source": [
    "football_players = np.array([173, 175, 180, 178, 177, 185, 183, 182])\n",
    "hockey_players = np.array([177, 179, 180, 188, 177, 172, 171, 184, 180])\n",
    "weightlifters = np.array([172, 173, 169, 177, 166, 180, 178, 177, 172, 166, 170])"
   ]
  },
  {
   "cell_type": "code",
   "execution_count": null,
   "id": "d6db5f78",
   "metadata": {},
   "outputs": [],
   "source": [
    "alpha = 0.05 "
   ]
  },
  {
   "cell_type": "code",
   "execution_count": 8,
   "id": "18413288",
   "metadata": {},
   "outputs": [
    {
     "name": "stdout",
     "output_type": "stream",
     "text": [
      "Футболисты: ShapiroResult(statistic=0.9775082468986511, pvalue=0.9495404362678528)\n",
      "Хоккеисты: ShapiroResult(statistic=0.9579196572303772, pvalue=0.7763139009475708)\n",
      "Штангисты: ShapiroResult(statistic=0.9386808276176453, pvalue=0.5051165223121643)\n"
     ]
    }
   ],
   "source": [
    "# Проверим на нормальность распределения\n",
    "\n",
    "print(f'Футболисты: {stats.shapiro(football_players)}')\n",
    "print(f'Хоккеисты: {stats.shapiro(hockey_players)}')\n",
    "print(f'Штангисты: {stats.shapiro(weightlifters)}')"
   ]
  },
  {
   "cell_type": "markdown",
   "id": "ddd040db",
   "metadata": {},
   "source": [
    "pvalue > alpha, следовательно данные распределены нормально"
   ]
  },
  {
   "cell_type": "code",
   "execution_count": 10,
   "id": "62188d73",
   "metadata": {},
   "outputs": [
    {
     "data": {
      "text/plain": [
       "BartlettResult(statistic=0.4640521043406442, pvalue=0.7929254656083131)"
      ]
     },
     "execution_count": 10,
     "metadata": {},
     "output_type": "execute_result"
    }
   ],
   "source": [
    "# Проверим равенство дисперсий\n",
    "\n",
    "stats.bartlett(football_players, hockey_players, weightlifters)"
   ]
  },
  {
   "cell_type": "markdown",
   "id": "d9c8fd09",
   "metadata": {},
   "source": [
    "pvalue > alpha, следовательно данные распределены нормально"
   ]
  },
  {
   "cell_type": "markdown",
   "id": "f0fc6be9",
   "metadata": {},
   "source": [
    "Сформулируем гипотезы:\n",
    "    H0: μ1 = μ2 = μ3\n",
    "    H1: не все средние значения равны"
   ]
  },
  {
   "cell_type": "code",
   "execution_count": 13,
   "id": "b1cc13bd",
   "metadata": {},
   "outputs": [
    {
     "data": {
      "text/plain": [
       "F_onewayResult(statistic=5.500053450812596, pvalue=0.010482206918698694)"
      ]
     },
     "execution_count": 13,
     "metadata": {},
     "output_type": "execute_result"
    }
   ],
   "source": [
    "#Проведем однофакторный дисперсионный анализ\n",
    "\n",
    "stats.f_oneway(football_players, hockey_players, weightlifters)"
   ]
  },
  {
   "cell_type": "markdown",
   "id": "63938932",
   "metadata": {},
   "source": [
    "Отвергаем нулевую гипотезу. Средние значения не равны. p-value=0.01048"
   ]
  }
 ],
 "metadata": {
  "kernelspec": {
   "display_name": "Python 3 (ipykernel)",
   "language": "python",
   "name": "python3"
  },
  "language_info": {
   "codemirror_mode": {
    "name": "ipython",
    "version": 3
   },
   "file_extension": ".py",
   "mimetype": "text/x-python",
   "name": "python",
   "nbconvert_exporter": "python",
   "pygments_lexer": "ipython3",
   "version": "3.9.13"
  }
 },
 "nbformat": 4,
 "nbformat_minor": 5
}
