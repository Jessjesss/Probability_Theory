{
 "cells": [
  {
   "cell_type": "markdown",
   "id": "e8153cf5",
   "metadata": {},
   "source": [
    "Урок 4. Непрерывная случайная величина\n",
    "1) Случайная непрерывная величина A имеет равномерное распределение на промежутке (200, 800].\n",
    "\n",
    "Найдите ее среднее значение и дисперсию.\n",
    "\n",
    "2) О случайной непрерывной равномерно распределенной величине B известно, что ее дисперсия равна 0.2.\n",
    "\n",
    "Можно ли найти правую границу величины B и ее среднее значение зная, что левая граница равна 0.5?\n",
    "\n",
    "Если да, найдите ее.\n",
    "\n",
    "3) Непрерывная случайная величина X распределена нормально и задана плотностью распределения\n",
    "\n",
    "f(x) = (1 / (4 * sqrt(2pi))) * exp((-(x+2)**2) / 32)\n",
    "\n",
    "Найдите:\n",
    "\n",
    "а). M(X)\n",
    "\n",
    "б). D(X)\n",
    "\n",
    "в). std(X) (среднее квадратичное отклонение)\n",
    "\n",
    "4) Рост взрослого населения города X имеет нормальное распределение.\n",
    "\n",
    "Причем, средний рост равен 174 см, а среднее квадратичное отклонение равно 8 см.\n",
    "\n",
    "Какова вероятность того, что случайным образом выбранный взрослый человек имеет рост:\n",
    "\n",
    "а). больше 182 см\n",
    "\n",
    "б). больше 190 см\n",
    "\n",
    "в). от 166 см до 190 см\n",
    "\n",
    "г). от 166 см до 182 см\n",
    "\n",
    "д). от 158 см до 190 см\n",
    "\n",
    "е). не выше 150 см или не ниже 190 см\n",
    "\n",
    "ё). не выше 150 см или не ниже 198 см\n",
    "\n",
    "ж). ниже 166 см.\n",
    "\n",
    "5) На сколько сигм (средних квадратичных отклонений) отклоняется рост человека, равный 190 см, от математического ожидания роста в популяции, в которой M(X) = 178 см и D(X) = 25 кв.см?"
   ]
  },
  {
   "cell_type": "markdown",
   "id": "95b1138a",
   "metadata": {},
   "source": [
    "1) Случайная непрерывная величина A имеет равномерное распределение на промежутке (200, 800].\n",
    "\n",
    "Найдите ее среднее значение и дисперсию."
   ]
  },
  {
   "cell_type": "code",
   "execution_count": 1,
   "id": "b1b317f0",
   "metadata": {},
   "outputs": [
    {
     "name": "stdout",
     "output_type": "stream",
     "text": [
      "500.0\n"
     ]
    }
   ],
   "source": [
    "#Найдем среднее значение\n",
    "a = 200\n",
    "b = 800\n",
    "A = (a+b)/2"
   ]
  },
  {
   "cell_type": "code",
   "execution_count": 2,
   "id": "6c4c92f7",
   "metadata": {},
   "outputs": [
    {
     "name": "stdout",
     "output_type": "stream",
     "text": [
      "30000.0\n"
     ]
    }
   ],
   "source": [
    "#Найдем дисперсию\n",
    "d = (b - a)**2/12"
   ]
  },
  {
   "cell_type": "markdown",
   "id": "763fe5ce",
   "metadata": {},
   "source": [
    "2) О случайной непрерывной равномерно распределенной величине B известно, что ее дисперсия равна 0.2.\n",
    "\n",
    "Можно ли найти правую границу величины B и ее среднее значение зная, что левая граница равна 0.5?\n",
    "\n",
    "Если да, найдите ее."
   ]
  },
  {
   "cell_type": "code",
   "execution_count": 6,
   "id": "18b565c4",
   "metadata": {},
   "outputs": [
    {
     "name": "stdout",
     "output_type": "stream",
     "text": [
      "Правая граница =  2.049\n",
      "Среднее значение =  1.275\n"
     ]
    }
   ],
   "source": [
    "b = 0.5 + 2.4**(1/2)\n",
    "s = (b + 0.5)/2"
   ]
  },
  {
   "cell_type": "markdown",
   "id": "0978ca69",
   "metadata": {},
   "source": [
    "3) Непрерывная случайная величина X распределена нормально и задана плотностью распределения\n",
    "\n",
    "f(x) = (1 / (4 * sqrt(2pi))) * exp((-(x+2)**2) / 32)\n",
    "\n",
    "Найдите:\n",
    "\n",
    "а). M(X)\n",
    "\n",
    "б). D(X)\n",
    "\n",
    "в). std(X) (среднее квадратичное отклонение)"
   ]
  },
  {
   "cell_type": "markdown",
   "id": "53ac160b",
   "metadata": {},
   "source": [
    "Ответ: \n",
    "    а) M(X) = -2\n",
    "    б) D(X) = 16\n",
    "    в) std(X) = 4"
   ]
  },
  {
   "cell_type": "markdown",
   "id": "cc134995",
   "metadata": {},
   "source": [
    "4) Рост взрослого населения города X имеет нормальное распределение.\n",
    "\n",
    "Причем, средний рост равен 174 см, а среднее квадратичное отклонение равно 8 см.\n",
    "\n",
    "Какова вероятность того, что случайным образом выбранный взрослый человек имеет рост:\n",
    "\n",
    "а). больше 182 см\n",
    "\n",
    "б). больше 190 см\n",
    "\n",
    "в). от 166 см до 190 см\n",
    "\n",
    "г). от 166 см до 182 см\n",
    "\n",
    "д). от 158 см до 190 см\n",
    "\n",
    "е). не выше 150 см или не ниже 190 см\n",
    "\n",
    "ё). не выше 150 см или не ниже 198 см\n",
    "\n",
    "ж). ниже 166 см."
   ]
  },
  {
   "cell_type": "code",
   "execution_count": 2,
   "id": "5158cfcd",
   "metadata": {},
   "outputs": [],
   "source": [
    "#Создадим функцию\n",
    "def height(n):\n",
    "    return (n - 174)/8"
   ]
  },
  {
   "cell_type": "code",
   "execution_count": 3,
   "id": "6d080d59",
   "metadata": {},
   "outputs": [
    {
     "name": "stdout",
     "output_type": "stream",
     "text": [
      "1.0\n"
     ]
    }
   ],
   "source": [
    "#а) больше 182 см\n",
    "print(height(182))"
   ]
  },
  {
   "cell_type": "code",
   "execution_count": null,
   "id": "f2ed6876",
   "metadata": {},
   "outputs": [],
   "source": [
    "#Найдем значение с помошью таблицы \n",
    "0.84134"
   ]
  },
  {
   "cell_type": "code",
   "execution_count": 6,
   "id": "5ab1c4b8",
   "metadata": {},
   "outputs": [
    {
     "name": "stdout",
     "output_type": "stream",
     "text": [
      "Ответ а): = 0.15866000000000002\n"
     ]
    }
   ],
   "source": [
    "#Вычтем значение из 1\n",
    "print('Ответ а): =' ,(1 - 0.84134))"
   ]
  },
  {
   "cell_type": "markdown",
   "id": "638aff26",
   "metadata": {},
   "source": [
    "б). больше 190 см"
   ]
  },
  {
   "cell_type": "code",
   "execution_count": 9,
   "id": "167be94b",
   "metadata": {},
   "outputs": [
    {
     "name": "stdout",
     "output_type": "stream",
     "text": [
      "2.0\n",
      "Ответ б): = 0.022750000000000048\n"
     ]
    }
   ],
   "source": [
    "print(height(190))\n",
    "print('Ответ б): =' ,1 - 0.97725)"
   ]
  },
  {
   "cell_type": "markdown",
   "id": "e73ed47e",
   "metadata": {},
   "source": [
    "в). от 166 см до 190 см"
   ]
  },
  {
   "cell_type": "code",
   "execution_count": 11,
   "id": "1efefa28",
   "metadata": {},
   "outputs": [
    {
     "name": "stdout",
     "output_type": "stream",
     "text": [
      "-1.0 2.0\n"
     ]
    }
   ],
   "source": [
    "n1 = height(166)\n",
    "n2 = height(190)\n",
    "print(n1, n2)"
   ]
  },
  {
   "cell_type": "code",
   "execution_count": 20,
   "id": "d9219472",
   "metadata": {},
   "outputs": [],
   "source": [
    "#Найдем с помощью таблицы Z значения\n",
    "n_1 = 0.1587\n",
    "n_2 = 0.97725\n"
   ]
  },
  {
   "cell_type": "code",
   "execution_count": 23,
   "id": "6b93e3e3",
   "metadata": {},
   "outputs": [
    {
     "name": "stdout",
     "output_type": "stream",
     "text": [
      "Ответ в): = 0.8185499999999999\n"
     ]
    }
   ],
   "source": [
    "print('Ответ в): =' ,(n_2 - n_1))"
   ]
  },
  {
   "cell_type": "markdown",
   "id": "7fdb6dc7",
   "metadata": {},
   "source": [
    "г). от 166 см до 182 см"
   ]
  },
  {
   "cell_type": "code",
   "execution_count": 24,
   "id": "acb116a6",
   "metadata": {},
   "outputs": [
    {
     "name": "stdout",
     "output_type": "stream",
     "text": [
      "-1.0 1.0\n"
     ]
    }
   ],
   "source": [
    "n1 = height(166)\n",
    "n2 = height(182)\n",
    "print(n1, n2)"
   ]
  },
  {
   "cell_type": "code",
   "execution_count": 25,
   "id": "70b41465",
   "metadata": {},
   "outputs": [
    {
     "name": "stdout",
     "output_type": "stream",
     "text": [
      "Ответ г): = 0.6826399999999999\n"
     ]
    }
   ],
   "source": [
    "n_1 = 0.1587\n",
    "n_2 = 0.84134\n",
    "print('Ответ г): =' ,(n_2 - n_1))"
   ]
  },
  {
   "cell_type": "markdown",
   "id": "0e6a0a3c",
   "metadata": {},
   "source": [
    "д). от 158 см до 190 см"
   ]
  },
  {
   "cell_type": "code",
   "execution_count": 26,
   "id": "0b9419c7",
   "metadata": {},
   "outputs": [
    {
     "name": "stdout",
     "output_type": "stream",
     "text": [
      "-2.0 2.0\n"
     ]
    }
   ],
   "source": [
    "n1 = height(158)\n",
    "n2 = height(190)\n",
    "print(n1, n2)"
   ]
  },
  {
   "cell_type": "code",
   "execution_count": 27,
   "id": "7c7bbbf4",
   "metadata": {},
   "outputs": [
    {
     "name": "stdout",
     "output_type": "stream",
     "text": [
      "Ответ д): = 0.9544499999999999\n"
     ]
    }
   ],
   "source": [
    "n_1 = 0.0228\n",
    "n_2 = 0.97725\n",
    "print('Ответ д): =' ,(n_2 - n_1))"
   ]
  },
  {
   "cell_type": "markdown",
   "id": "acea6351",
   "metadata": {},
   "source": [
    "е). не выше 150 см или не ниже 190 см"
   ]
  },
  {
   "cell_type": "code",
   "execution_count": 28,
   "id": "887b1a3f",
   "metadata": {},
   "outputs": [
    {
     "name": "stdout",
     "output_type": "stream",
     "text": [
      "-3.0 2.0\n"
     ]
    }
   ],
   "source": [
    "n1 = height(150)\n",
    "n2 = height(190)\n",
    "print(n1, n2)"
   ]
  },
  {
   "cell_type": "code",
   "execution_count": 30,
   "id": "e7b331bf",
   "metadata": {},
   "outputs": [
    {
     "name": "stdout",
     "output_type": "stream",
     "text": [
      "Ответ е): = 0.024150000000000046\n"
     ]
    }
   ],
   "source": [
    "n_1 = 0.0014\n",
    "n_2 = 0.97725\n",
    "print('Ответ е): =' ,(n_1 + (1-n_2)))"
   ]
  },
  {
   "cell_type": "markdown",
   "id": "33e0e847",
   "metadata": {},
   "source": [
    "ё). не выше 150 см или не ниже 198 см"
   ]
  },
  {
   "cell_type": "code",
   "execution_count": 31,
   "id": "bc65ca5d",
   "metadata": {},
   "outputs": [
    {
     "name": "stdout",
     "output_type": "stream",
     "text": [
      "-3.0 3.0\n"
     ]
    }
   ],
   "source": [
    "n1 = height(150)\n",
    "n2 = height(198)\n",
    "print(n1, n2)"
   ]
  },
  {
   "cell_type": "code",
   "execution_count": 32,
   "id": "f759139a",
   "metadata": {},
   "outputs": [
    {
     "name": "stdout",
     "output_type": "stream",
     "text": [
      "Ответ ё): = 0.0027499999999999625\n"
     ]
    }
   ],
   "source": [
    "n_1 = 0.0014\n",
    "n_2 = 0.99865\n",
    "print('Ответ ё): =' ,(n_1 + (1-n_2)))"
   ]
  },
  {
   "cell_type": "markdown",
   "id": "560e40ec",
   "metadata": {},
   "source": [
    "ж). ниже 166 см."
   ]
  },
  {
   "cell_type": "code",
   "execution_count": 33,
   "id": "e1fa7653",
   "metadata": {},
   "outputs": [
    {
     "name": "stdout",
     "output_type": "stream",
     "text": [
      "-1.0\n"
     ]
    }
   ],
   "source": [
    "n = height(166)\n",
    "print(n)"
   ]
  },
  {
   "cell_type": "markdown",
   "id": "c9149939",
   "metadata": {},
   "source": [
    "Ответ ж) = 0.1587"
   ]
  },
  {
   "cell_type": "markdown",
   "id": "a43e0675",
   "metadata": {},
   "source": [
    "5) На сколько сигм (средних квадратичных отклонений) отклоняется рост человека, равный 190 см, от математического ожидания роста в популяции, в которой M(X) = 178 см и D(X) = 25 кв.см?"
   ]
  },
  {
   "cell_type": "code",
   "execution_count": 35,
   "id": "b130ae4d",
   "metadata": {},
   "outputs": [
    {
     "name": "stdout",
     "output_type": "stream",
     "text": [
      "Ответ 5 задания: = 2.4\n"
     ]
    }
   ],
   "source": [
    "n = (190-178)/25**(1/2)\n",
    "print('Ответ 5 задания: =' ,n)"
   ]
  },
  {
   "cell_type": "code",
   "execution_count": null,
   "id": "34c282c7",
   "metadata": {},
   "outputs": [],
   "source": []
  }
 ],
 "metadata": {
  "kernelspec": {
   "display_name": "Python 3 (ipykernel)",
   "language": "python",
   "name": "python3"
  },
  "language_info": {
   "codemirror_mode": {
    "name": "ipython",
    "version": 3
   },
   "file_extension": ".py",
   "mimetype": "text/x-python",
   "name": "python",
   "nbconvert_exporter": "python",
   "pygments_lexer": "ipython3",
   "version": "3.9.13"
  }
 },
 "nbformat": 4,
 "nbformat_minor": 5
}
