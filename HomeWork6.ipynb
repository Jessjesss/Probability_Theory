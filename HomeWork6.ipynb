{
 "cells": [
  {
   "cell_type": "markdown",
   "id": "34f5a36a",
   "metadata": {},
   "source": [
    "Урок 6. Сравнение долей. Построение доверительного интервала\n",
    "1) Известно, что генеральная совокупность распределена нормально со средним квадратическим отклонением, равным 16.\n",
    "\n",
    "Найти доверительный интервал для оценки математического ожидания a с надежностью 0.95, если выборочная средняя M = 80, а объем выборки n = 256.\n",
    "\n",
    "2) В результате 10 независимых измерений некоторой величины X, выполненных с одинаковой точностью, получены опытные данные:\n",
    "\n",
    "6.9, 6.1, 6.2, 6.8, 7.5, 6.3, 6.4, 6.9, 6.7, 6.1\n",
    "\n",
    "Предполагая, что результаты измерений подчинены нормальному закону распределения вероятностей, оценить истинное значение величины X при помощи доверительного интервала, покрывающего это значение с доверительной вероятностью 0,95.\n",
    "\n",
    "3)Рост дочерей 175, 167, 154, 174, 178, 148, 160, 167, 169, 170\n",
    "\n",
    "Рост матерей  178, 165, 165, 173, 168, 155, 160, 164, 178, 175\n",
    "\n",
    "Используя эти данные построить 95% доверительный интервал для разности среднего роста родителей и детей."
   ]
  },
  {
   "cell_type": "code",
   "execution_count": 1,
   "id": "faeadb3d",
   "metadata": {},
   "outputs": [],
   "source": [
    "import numpy as np\n",
    "from scipy.stats import t"
   ]
  },
  {
   "cell_type": "code",
   "execution_count": 2,
   "id": "a82e1971",
   "metadata": {},
   "outputs": [],
   "source": [
    "mean = 80\n",
    "std = 16\n",
    "n = 256\n",
    "confidence = 0.95"
   ]
  },
  {
   "cell_type": "code",
   "execution_count": 3,
   "id": "6105e687",
   "metadata": {},
   "outputs": [
    {
     "data": {
      "text/plain": [
       "1.9693105698491928"
      ]
     },
     "execution_count": 3,
     "metadata": {},
     "output_type": "execute_result"
    }
   ],
   "source": [
    "# Находим значение t\n",
    "tv = t.ppf((1 + confidence) / 2, n - 1)\n",
    "tv"
   ]
  },
  {
   "cell_type": "code",
   "execution_count": 10,
   "id": "5a00b0f1",
   "metadata": {},
   "outputs": [
    {
     "name": "stdout",
     "output_type": "stream",
     "text": [
      "Доверительный интервал задания 1 = 78.03, 81.97\n"
     ]
    }
   ],
   "source": [
    "# Находим доверительный интервал\n",
    "lower = mean - tv * std / np.sqrt(n)\n",
    "upper = mean + tv * std / np.sqrt(n)\n",
    "print(f'Доверительный интервал задания 1 = {round(lower, 2)}, {round(upper, 2)}')"
   ]
  },
  {
   "cell_type": "markdown",
   "id": "c9da3281",
   "metadata": {},
   "source": [
    "2) В результате 10 независимых измерений некоторой величины X, выполненных с одинаковой точностью, получены опытные данные:\n",
    "\n",
    "6.9, 6.1, 6.2, 6.8, 7.5, 6.3, 6.4, 6.9, 6.7, 6.1\n",
    "\n",
    "Предполагая, что результаты измерений подчинены нормальному закону распределения вероятностей, оценить истинное значение величины X при помощи доверительного интервала, покрывающего это значение с доверительной вероятностью 0,95."
   ]
  },
  {
   "cell_type": "code",
   "execution_count": 21,
   "id": "9f3097fe",
   "metadata": {},
   "outputs": [
    {
     "name": "stdout",
     "output_type": "stream",
     "text": [
      "6.590000000000001\n",
      "0.4508017549014448\n"
     ]
    }
   ],
   "source": [
    "import scipy.stats as st\n",
    "\n",
    "data = np.array([6.9, 6.1, 6.2, 6.8, 7.5, 6.3, 6.4, 6.9, 6.7, 6.1])\n",
    "\n",
    "n = len(data)\n",
    "\n",
    "#Найдем выборочное среднее\n",
    "mean = np.mean(data)\n",
    "print(mean)\n",
    "\n",
    "#Найдем стандартное отклонение\n",
    "std_d = np.std(data, ddof=1)\n",
    "print(std_d)"
   ]
  },
  {
   "cell_type": "code",
   "execution_count": 19,
   "id": "a322c70a",
   "metadata": {},
   "outputs": [
    {
     "name": "stdout",
     "output_type": "stream",
     "text": [
      "Доверительный интервал задания 2 = 6.27, 6.91\n"
     ]
    }
   ],
   "source": [
    "alpha = 0.05\n",
    "df = n - 1\n",
    "t = st.t.ppf(1 - alpha / 2, df)\n",
    "\n",
    "lower = mean - t * std_d / np.sqrt(n)\n",
    "upper = mean + t * std_d / np.sqrt(n)\n",
    "\n",
    "print(f'Доверительный интервал задания 2 = {round(lower, 2)}, {round(upper,2)}')"
   ]
  },
  {
   "cell_type": "markdown",
   "id": "ed29ce83",
   "metadata": {},
   "source": [
    "3) Рост дочерей 175, 167, 154, 174, 178, 148, 160, 167, 169, 170\n",
    "\n",
    "Рост матерей  178, 165, 165, 173, 168, 155, 160, 164, 178, 175\n",
    "\n",
    "Используя эти данные построить 95% доверительный интервал для разности среднего роста родителей и детей."
   ]
  },
  {
   "cell_type": "code",
   "execution_count": 22,
   "id": "f513e6ea",
   "metadata": {},
   "outputs": [
    {
     "name": "stdout",
     "output_type": "stream",
     "text": [
      "166.2 168.1\n"
     ]
    }
   ],
   "source": [
    "daughters = np.array([175, 167, 154, 174, 178, 148, 160, 167, 169, 170])\n",
    "mothers = np.array([178, 165, 165, 173, 168, 155, 160, 164, 178, 175])\n",
    "\n",
    "#Найдем выборочное среднее\n",
    "mean_d = np.mean(daughters)\n",
    "mean_m = np.mean(mothers)\n",
    "print(mean_d, mean_m)"
   ]
  },
  {
   "cell_type": "code",
   "execution_count": 23,
   "id": "d9e46fd7",
   "metadata": {},
   "outputs": [
    {
     "name": "stdout",
     "output_type": "stream",
     "text": [
      "3.017725412735006 2.451530134426253\n"
     ]
    }
   ],
   "source": [
    "#Найдем выборочное стандартное отклонение и стандартную ошибку среднего\n",
    "std_dev_d = np.std(daughters, ddof=1)\n",
    "std_dev_m = np.std(mothers, ddof=1)\n",
    "\n",
    "se_d = std_dev_d / np.sqrt(len(daughters))\n",
    "se_m = std_dev_m / np.sqrt(len(mothers))\n",
    "print(se_d, se_m)"
   ]
  },
  {
   "cell_type": "code",
   "execution_count": 25,
   "id": "428d90bf",
   "metadata": {},
   "outputs": [
    {
     "name": "stdout",
     "output_type": "stream",
     "text": [
      "Доверительный интервал для задания 3: [-10.068418034506855, 6.268418034506844]\n"
     ]
    }
   ],
   "source": [
    "alpha = 0.05\n",
    "df = len(daughters) + len(mothers) - 2\n",
    "\n",
    "t = st.t.ppf(1 - alpha / 2, df)\n",
    "\n",
    "se_diff = np.sqrt(se_d**2 + se_m**2)\n",
    "diff = mean_d - mean_m\n",
    "\n",
    "lower = diff - t * se_diff\n",
    "upper = diff + t * se_diff\n",
    "\n",
    "print(f\"Доверительный интервал для задания 3: [{lower}, {upper}]\")"
   ]
  }
 ],
 "metadata": {
  "kernelspec": {
   "display_name": "Python 3 (ipykernel)",
   "language": "python",
   "name": "python3"
  },
  "language_info": {
   "codemirror_mode": {
    "name": "ipython",
    "version": 3
   },
   "file_extension": ".py",
   "mimetype": "text/x-python",
   "name": "python",
   "nbconvert_exporter": "python",
   "pygments_lexer": "ipython3",
   "version": "3.9.13"
  }
 },
 "nbformat": 4,
 "nbformat_minor": 5
}
