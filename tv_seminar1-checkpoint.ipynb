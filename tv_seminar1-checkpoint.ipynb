{
 "cells": [
  {
   "cell_type": "markdown",
   "id": "269d0568",
   "metadata": {},
   "source": [
    "## Задание 1\n",
    "\n",
    "Из колоды в 52 карты извлекаются случайным образом 4 карты. \n",
    "a) Найти вероятность того, что все карты – крести. \n",
    "б) Найти вероятность, что среди 4-х карт окажется хотя бы один туз."
   ]
  },
  {
   "cell_type": "code",
   "execution_count": 2,
   "id": "6ed59a7e",
   "metadata": {},
   "outputs": [],
   "source": [
    "from math import factorial"
   ]
  },
  {
   "cell_type": "code",
   "execution_count": 3,
   "id": "8a452b9c",
   "metadata": {},
   "outputs": [],
   "source": [
    "# Создаем функцию для формул сочетания\n",
    "def combinations (n, k):\n",
    "    return int(factorial(n) // (factorial(k) * factorial(n - k)))"
   ]
  },
  {
   "cell_type": "code",
   "execution_count": 7,
   "id": "a426c0e6",
   "metadata": {},
   "outputs": [
    {
     "data": {
      "text/plain": [
       "270725"
      ]
     },
     "execution_count": 7,
     "metadata": {},
     "output_type": "execute_result"
    }
   ],
   "source": [
    "# Получаем сочетания всех карт по четыре\n",
    "n = combinations (52, 4)\n",
    "n"
   ]
  },
  {
   "cell_type": "code",
   "execution_count": 8,
   "id": "56665f8b",
   "metadata": {},
   "outputs": [
    {
     "data": {
      "text/plain": [
       "715"
      ]
     },
     "execution_count": 8,
     "metadata": {},
     "output_type": "execute_result"
    }
   ],
   "source": [
    "# Рассчитаем количество сочетаний для 4 мастей (по 13 карт разной масти)\n",
    "m = combinations (13, 4)\n",
    "m"
   ]
  },
  {
   "cell_type": "code",
   "execution_count": 9,
   "id": "ac86f62f",
   "metadata": {},
   "outputs": [
    {
     "name": "stdout",
     "output_type": "stream",
     "text": [
      "0.00264\n"
     ]
    }
   ],
   "source": [
    "# Рассчитаем вероятность\n",
    "P = m/n\n",
    "print(round(P, 5))"
   ]
  },
  {
   "cell_type": "code",
   "execution_count": 15,
   "id": "18b72d24",
   "metadata": {},
   "outputs": [],
   "source": [
    "# б) Найти вероятность, что среди 4-х карт окажется хотя бы один туз.\n",
    "# Рассчитаем сочетание того, что среди карт нет ни одного туза(m) и общее количество сочетаний(n).\n",
    "n_1 = combinations (48, 4)\n",
    "m_1 = combinations (52, 4)\n"
   ]
  },
  {
   "cell_type": "code",
   "execution_count": 19,
   "id": "062f42e4",
   "metadata": {},
   "outputs": [
    {
     "name": "stdout",
     "output_type": "stream",
     "text": [
      "0.28126\n"
     ]
    }
   ],
   "source": [
    "# Рассчитаем верятность, что среди 4-х карт окажется хотя бы один туз.\n",
    "P_1 = 1-n_1/m_1\n",
    "print(round(P_1, 5))"
   ]
  },
  {
   "cell_type": "markdown",
   "id": "d46a8d20",
   "metadata": {},
   "source": [
    "Ответ к заданию 1: \n",
    "\n",
    "а) = 0.26%\n",
    "б) = 28.13%"
   ]
  },
  {
   "cell_type": "markdown",
   "id": "73fefea9",
   "metadata": {},
   "source": [
    "## Задание 2\n",
    "\n",
    "На входной двери подъезда установлен кодовый замок, содержащий десять кнопок с цифрами от 0 до 9. \n",
    "Код содержит три цифры, которые нужно нажать одновременно. \n",
    "Какова вероятность того, что человек, не знающий код, откроет дверь с первой попытки?"
   ]
  },
  {
   "cell_type": "code",
   "execution_count": 24,
   "id": "015ba092",
   "metadata": {},
   "outputs": [
    {
     "name": "stdout",
     "output_type": "stream",
     "text": [
      "0.00833\n"
     ]
    }
   ],
   "source": [
    "# Рассчитаем функцией сочетания количество вариантов 3 из 10\n",
    "v = combinations ( 10,3)\n",
    "# Рассчитаем вероятность открыть замок с первого раза\n",
    "P_v = 1/v\n",
    "print(round(P_v, 5))"
   ]
  },
  {
   "cell_type": "markdown",
   "id": "0baa8f14",
   "metadata": {},
   "source": [
    "Ответ к заданию 2:\n",
    "    \n",
    "Вероятность того, что человек, не знающий код, откроет дверь с первой попытки - 0.83%"
   ]
  },
  {
   "cell_type": "markdown",
   "id": "8bec41e6",
   "metadata": {},
   "source": [
    "## Задание 3\n",
    "\n",
    "В ящике имеется 15 деталей, из которых 9 окрашены. \n",
    "Рабочий случайным образом извлекает 3 детали. \n",
    "Какова вероятность того, что все извлеченные детали окрашены?"
   ]
  },
  {
   "cell_type": "code",
   "execution_count": 29,
   "id": "1c967846",
   "metadata": {},
   "outputs": [
    {
     "name": "stdout",
     "output_type": "stream",
     "text": [
      "0.18462\n"
     ]
    }
   ],
   "source": [
    "# Рассчитаем общее количество сочетаний 3 из 15\n",
    "c1 = combinations (15, 3)\n",
    "# Рассчитаем количество благоприятных исходов 3 из 9\n",
    "c2 = combinations (9, 3)\n",
    "# Рассчитаем вероятность того, что все извлеченные детали окрашены\n",
    "P_o = c2/c1\n",
    "print(round(P_o, 5))"
   ]
  },
  {
   "cell_type": "markdown",
   "id": "70b7f558",
   "metadata": {},
   "source": [
    "Ответ к заданию 3:\n",
    "\n",
    "Вероятность того, что все извлеченные детали окрашены = 18.46%"
   ]
  },
  {
   "cell_type": "markdown",
   "id": "8f2e0f48",
   "metadata": {},
   "source": [
    "## Задание 4\n",
    "\n",
    "В лотерее 100 билетов. Из них 2 выигрышных. \n",
    "Какова вероятность того, что 2 приобретенных билета окажутся выигрышными?"
   ]
  },
  {
   "cell_type": "code",
   "execution_count": 30,
   "id": "f43b1fa8",
   "metadata": {},
   "outputs": [
    {
     "name": "stdout",
     "output_type": "stream",
     "text": [
      "0.0002\n"
     ]
    }
   ],
   "source": [
    "# Рассчитаем общее количество сочетаний 2 из 100\n",
    "b1 = combinations (100,2)\n",
    "# Рассчитаем вероятность того, что 2 приобретенных билета окажутся выигрышными\n",
    "P_b = 1/b1\n",
    "print(round(P_b, 5))"
   ]
  },
  {
   "cell_type": "markdown",
   "id": "7eb1998e",
   "metadata": {},
   "source": [
    "Ответ к заданию 4\n",
    "\n",
    "Вероятность того, что 2 приобретенных билета окажутся выигрышными = 0.02%"
   ]
  },
  {
   "cell_type": "code",
   "execution_count": null,
   "id": "6810b31f",
   "metadata": {},
   "outputs": [],
   "source": []
  }
 ],
 "metadata": {
  "kernelspec": {
   "display_name": "Python 3 (ipykernel)",
   "language": "python",
   "name": "python3"
  },
  "language_info": {
   "codemirror_mode": {
    "name": "ipython",
    "version": 3
   },
   "file_extension": ".py",
   "mimetype": "text/x-python",
   "name": "python",
   "nbconvert_exporter": "python",
   "pygments_lexer": "ipython3",
   "version": "3.9.13"
  },
  "vscode": {
   "interpreter": {
    "hash": "6c59dd5f0c18982d8b6014079d05c0fccade2492a702e47cf420e12293043946"
   }
  }
 },
 "nbformat": 4,
 "nbformat_minor": 5
}
